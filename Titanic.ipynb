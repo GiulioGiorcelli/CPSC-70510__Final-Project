{
 "cells": [
  {
   "cell_type": "code",
   "execution_count": 246,
   "metadata": {
    "collapsed": false
   },
   "outputs": [
    {
     "name": "stdout",
     "output_type": "stream",
     "text": [
      "Number of records:  891\n",
      "\n",
      "Sample Record:\n"
     ]
    },
    {
     "data": {
      "text/html": [
       "<div>\n",
       "<table border=\"1\" class=\"dataframe\">\n",
       "  <thead>\n",
       "    <tr style=\"text-align: right;\">\n",
       "      <th></th>\n",
       "      <th>PassengerId</th>\n",
       "      <th>Survived</th>\n",
       "      <th>Pclass</th>\n",
       "      <th>Name</th>\n",
       "      <th>Sex</th>\n",
       "      <th>Age</th>\n",
       "      <th>SibSp</th>\n",
       "      <th>Parch</th>\n",
       "      <th>Ticket</th>\n",
       "      <th>Fare</th>\n",
       "      <th>Cabin</th>\n",
       "      <th>Embarked</th>\n",
       "    </tr>\n",
       "  </thead>\n",
       "  <tbody>\n",
       "    <tr>\n",
       "      <th>0</th>\n",
       "      <td>1</td>\n",
       "      <td>0</td>\n",
       "      <td>3</td>\n",
       "      <td>Braund, Mr. Owen Harris</td>\n",
       "      <td>male</td>\n",
       "      <td>22.0</td>\n",
       "      <td>1</td>\n",
       "      <td>0</td>\n",
       "      <td>A/5 21171</td>\n",
       "      <td>7.25</td>\n",
       "      <td>NaN</td>\n",
       "      <td>S</td>\n",
       "    </tr>\n",
       "  </tbody>\n",
       "</table>\n",
       "</div>"
      ],
      "text/plain": [
       "   PassengerId  Survived  Pclass                     Name   Sex   Age  SibSp  \\\n",
       "0            1         0       3  Braund, Mr. Owen Harris  male  22.0      1   \n",
       "\n",
       "   Parch     Ticket  Fare Cabin Embarked  \n",
       "0      0  A/5 21171  7.25   NaN        S  "
      ]
     },
     "execution_count": 246,
     "metadata": {},
     "output_type": "execute_result"
    }
   ],
   "source": [
    "import pandas as pd\n",
    "import numpy as np\n",
    "\n",
    "df = pd.read_csv('C:\\\\Users\\\\ggiorcelli\\\\Downloads\\\\train.csv')\n",
    "print(\"Number of records: \",len(df))\n",
    "print(\"\\nSample Record:\")\n",
    "df.head(1)"
   ]
  },
  {
   "cell_type": "code",
   "execution_count": 247,
   "metadata": {
    "collapsed": false
   },
   "outputs": [
    {
     "name": "stdout",
     "output_type": "stream",
     "text": [
      "Data types:\n"
     ]
    },
    {
     "data": {
      "text/plain": [
       "PassengerId      int64\n",
       "Survived         int64\n",
       "Pclass           int64\n",
       "Name            object\n",
       "Sex             object\n",
       "Age            float64\n",
       "SibSp            int64\n",
       "Parch            int64\n",
       "Ticket          object\n",
       "Fare           float64\n",
       "Cabin           object\n",
       "Embarked        object\n",
       "dtype: object"
      ]
     },
     "execution_count": 247,
     "metadata": {},
     "output_type": "execute_result"
    }
   ],
   "source": [
    "print(\"Data types:\")\n",
    "df.dtypes"
   ]
  },
  {
   "cell_type": "code",
   "execution_count": 134,
   "metadata": {
    "collapsed": false
   },
   "outputs": [
    {
     "name": "stdout",
     "output_type": "stream",
     "text": [
      "Value Counts: \n"
     ]
    },
    {
     "data": {
      "text/plain": [
       "PassengerId    891\n",
       "Survived       891\n",
       "Pclass         891\n",
       "Name           891\n",
       "Sex            891\n",
       "Age            714\n",
       "SibSp          891\n",
       "Parch          891\n",
       "Ticket         891\n",
       "Fare           891\n",
       "Cabin          204\n",
       "Embarked       889\n",
       "dtype: int64"
      ]
     },
     "execution_count": 134,
     "metadata": {},
     "output_type": "execute_result"
    }
   ],
   "source": [
    "#Checking for missing records\n",
    "print(\"Value Counts: \")\n",
    "df.count()"
   ]
  },
  {
   "cell_type": "code",
   "execution_count": 248,
   "metadata": {
    "collapsed": false
   },
   "outputs": [],
   "source": [
    "#Ticket and cabin are irrelevant and with a lot of Nas so I'll drop them\n",
    "df.drop(['Ticket','Cabin'],axis=1, inplace=True)\n",
    "#Passenger id and name are also irrelevant\n",
    "df.drop(['PassengerId','Name'],axis=1, inplace=True)"
   ]
  },
  {
   "cell_type": "code",
   "execution_count": 136,
   "metadata": {
    "collapsed": false
   },
   "outputs": [
    {
     "data": {
      "text/plain": [
       "Survived    891\n",
       "Pclass      891\n",
       "Sex         891\n",
       "Age         714\n",
       "SibSp       891\n",
       "Parch       891\n",
       "Fare        891\n",
       "Embarked    889\n",
       "dtype: int64"
      ]
     },
     "execution_count": 136,
     "metadata": {},
     "output_type": "execute_result"
    }
   ],
   "source": [
    "df.count()"
   ]
  },
  {
   "cell_type": "code",
   "execution_count": 249,
   "metadata": {
    "collapsed": false
   },
   "outputs": [],
   "source": [
    "#It looks like Age has a few NAs. I'll replace the missing values with the mean age for the corresponding class and gender\n",
    "df.Age = df.Age.fillna(-1)\n",
    "df1 = df.replace(-1, df.groupby(['Sex','Pclass'], as_index=False)['Age'].mean())"
   ]
  },
  {
   "cell_type": "code",
   "execution_count": 250,
   "metadata": {
    "collapsed": false
   },
   "outputs": [
    {
     "data": {
      "text/html": [
       "<div>\n",
       "<table border=\"1\" class=\"dataframe\">\n",
       "  <thead>\n",
       "    <tr style=\"text-align: right;\">\n",
       "      <th></th>\n",
       "      <th>Survived</th>\n",
       "      <th>Pclass</th>\n",
       "      <th>Sex</th>\n",
       "      <th>Age</th>\n",
       "      <th>SibSp</th>\n",
       "      <th>Parch</th>\n",
       "      <th>Fare</th>\n",
       "      <th>Embarked</th>\n",
       "    </tr>\n",
       "  </thead>\n",
       "  <tbody>\n",
       "    <tr>\n",
       "      <th>0</th>\n",
       "      <td>0</td>\n",
       "      <td>3</td>\n",
       "      <td>male</td>\n",
       "      <td>22.000000</td>\n",
       "      <td>1</td>\n",
       "      <td>0</td>\n",
       "      <td>7.2500</td>\n",
       "      <td>S</td>\n",
       "    </tr>\n",
       "    <tr>\n",
       "      <th>1</th>\n",
       "      <td>1</td>\n",
       "      <td>1</td>\n",
       "      <td>female</td>\n",
       "      <td>38.000000</td>\n",
       "      <td>1</td>\n",
       "      <td>0</td>\n",
       "      <td>71.2833</td>\n",
       "      <td>C</td>\n",
       "    </tr>\n",
       "    <tr>\n",
       "      <th>2</th>\n",
       "      <td>1</td>\n",
       "      <td>3</td>\n",
       "      <td>female</td>\n",
       "      <td>26.000000</td>\n",
       "      <td>0</td>\n",
       "      <td>0</td>\n",
       "      <td>7.9250</td>\n",
       "      <td>S</td>\n",
       "    </tr>\n",
       "    <tr>\n",
       "      <th>3</th>\n",
       "      <td>1</td>\n",
       "      <td>1</td>\n",
       "      <td>female</td>\n",
       "      <td>35.000000</td>\n",
       "      <td>1</td>\n",
       "      <td>0</td>\n",
       "      <td>53.1000</td>\n",
       "      <td>S</td>\n",
       "    </tr>\n",
       "    <tr>\n",
       "      <th>4</th>\n",
       "      <td>0</td>\n",
       "      <td>3</td>\n",
       "      <td>male</td>\n",
       "      <td>35.000000</td>\n",
       "      <td>0</td>\n",
       "      <td>0</td>\n",
       "      <td>8.0500</td>\n",
       "      <td>S</td>\n",
       "    </tr>\n",
       "    <tr>\n",
       "      <th>5</th>\n",
       "      <td>0</td>\n",
       "      <td>3</td>\n",
       "      <td>male</td>\n",
       "      <td>19.055965</td>\n",
       "      <td>0</td>\n",
       "      <td>0</td>\n",
       "      <td>8.4583</td>\n",
       "      <td>Q</td>\n",
       "    </tr>\n",
       "    <tr>\n",
       "      <th>6</th>\n",
       "      <td>0</td>\n",
       "      <td>1</td>\n",
       "      <td>male</td>\n",
       "      <td>54.000000</td>\n",
       "      <td>0</td>\n",
       "      <td>0</td>\n",
       "      <td>51.8625</td>\n",
       "      <td>S</td>\n",
       "    </tr>\n",
       "    <tr>\n",
       "      <th>7</th>\n",
       "      <td>0</td>\n",
       "      <td>3</td>\n",
       "      <td>male</td>\n",
       "      <td>2.000000</td>\n",
       "      <td>3</td>\n",
       "      <td>1</td>\n",
       "      <td>21.0750</td>\n",
       "      <td>S</td>\n",
       "    </tr>\n",
       "    <tr>\n",
       "      <th>8</th>\n",
       "      <td>1</td>\n",
       "      <td>3</td>\n",
       "      <td>female</td>\n",
       "      <td>27.000000</td>\n",
       "      <td>0</td>\n",
       "      <td>2</td>\n",
       "      <td>11.1333</td>\n",
       "      <td>S</td>\n",
       "    </tr>\n",
       "    <tr>\n",
       "      <th>9</th>\n",
       "      <td>1</td>\n",
       "      <td>2</td>\n",
       "      <td>female</td>\n",
       "      <td>14.000000</td>\n",
       "      <td>1</td>\n",
       "      <td>0</td>\n",
       "      <td>30.0708</td>\n",
       "      <td>C</td>\n",
       "    </tr>\n",
       "    <tr>\n",
       "      <th>10</th>\n",
       "      <td>1</td>\n",
       "      <td>3</td>\n",
       "      <td>female</td>\n",
       "      <td>4.000000</td>\n",
       "      <td>1</td>\n",
       "      <td>1</td>\n",
       "      <td>16.7000</td>\n",
       "      <td>S</td>\n",
       "    </tr>\n",
       "    <tr>\n",
       "      <th>11</th>\n",
       "      <td>1</td>\n",
       "      <td>1</td>\n",
       "      <td>female</td>\n",
       "      <td>58.000000</td>\n",
       "      <td>0</td>\n",
       "      <td>0</td>\n",
       "      <td>26.5500</td>\n",
       "      <td>S</td>\n",
       "    </tr>\n",
       "    <tr>\n",
       "      <th>12</th>\n",
       "      <td>0</td>\n",
       "      <td>3</td>\n",
       "      <td>male</td>\n",
       "      <td>20.000000</td>\n",
       "      <td>0</td>\n",
       "      <td>0</td>\n",
       "      <td>8.0500</td>\n",
       "      <td>S</td>\n",
       "    </tr>\n",
       "    <tr>\n",
       "      <th>13</th>\n",
       "      <td>0</td>\n",
       "      <td>3</td>\n",
       "      <td>male</td>\n",
       "      <td>39.000000</td>\n",
       "      <td>1</td>\n",
       "      <td>5</td>\n",
       "      <td>31.2750</td>\n",
       "      <td>S</td>\n",
       "    </tr>\n",
       "    <tr>\n",
       "      <th>14</th>\n",
       "      <td>0</td>\n",
       "      <td>3</td>\n",
       "      <td>female</td>\n",
       "      <td>14.000000</td>\n",
       "      <td>0</td>\n",
       "      <td>0</td>\n",
       "      <td>7.8542</td>\n",
       "      <td>S</td>\n",
       "    </tr>\n",
       "    <tr>\n",
       "      <th>15</th>\n",
       "      <td>1</td>\n",
       "      <td>2</td>\n",
       "      <td>female</td>\n",
       "      <td>55.000000</td>\n",
       "      <td>0</td>\n",
       "      <td>0</td>\n",
       "      <td>16.0000</td>\n",
       "      <td>S</td>\n",
       "    </tr>\n",
       "    <tr>\n",
       "      <th>16</th>\n",
       "      <td>0</td>\n",
       "      <td>3</td>\n",
       "      <td>male</td>\n",
       "      <td>2.000000</td>\n",
       "      <td>4</td>\n",
       "      <td>1</td>\n",
       "      <td>29.1250</td>\n",
       "      <td>Q</td>\n",
       "    </tr>\n",
       "    <tr>\n",
       "      <th>17</th>\n",
       "      <td>1</td>\n",
       "      <td>2</td>\n",
       "      <td>male</td>\n",
       "      <td>19.055965</td>\n",
       "      <td>0</td>\n",
       "      <td>0</td>\n",
       "      <td>13.0000</td>\n",
       "      <td>S</td>\n",
       "    </tr>\n",
       "    <tr>\n",
       "      <th>18</th>\n",
       "      <td>0</td>\n",
       "      <td>3</td>\n",
       "      <td>female</td>\n",
       "      <td>31.000000</td>\n",
       "      <td>1</td>\n",
       "      <td>0</td>\n",
       "      <td>18.0000</td>\n",
       "      <td>S</td>\n",
       "    </tr>\n",
       "    <tr>\n",
       "      <th>19</th>\n",
       "      <td>1</td>\n",
       "      <td>3</td>\n",
       "      <td>female</td>\n",
       "      <td>27.940789</td>\n",
       "      <td>0</td>\n",
       "      <td>0</td>\n",
       "      <td>7.2250</td>\n",
       "      <td>C</td>\n",
       "    </tr>\n",
       "  </tbody>\n",
       "</table>\n",
       "</div>"
      ],
      "text/plain": [
       "    Survived  Pclass     Sex        Age  SibSp  Parch     Fare Embarked\n",
       "0          0       3    male  22.000000      1      0   7.2500        S\n",
       "1          1       1  female  38.000000      1      0  71.2833        C\n",
       "2          1       3  female  26.000000      0      0   7.9250        S\n",
       "3          1       1  female  35.000000      1      0  53.1000        S\n",
       "4          0       3    male  35.000000      0      0   8.0500        S\n",
       "5          0       3    male  19.055965      0      0   8.4583        Q\n",
       "6          0       1    male  54.000000      0      0  51.8625        S\n",
       "7          0       3    male   2.000000      3      1  21.0750        S\n",
       "8          1       3  female  27.000000      0      2  11.1333        S\n",
       "9          1       2  female  14.000000      1      0  30.0708        C\n",
       "10         1       3  female   4.000000      1      1  16.7000        S\n",
       "11         1       1  female  58.000000      0      0  26.5500        S\n",
       "12         0       3    male  20.000000      0      0   8.0500        S\n",
       "13         0       3    male  39.000000      1      5  31.2750        S\n",
       "14         0       3  female  14.000000      0      0   7.8542        S\n",
       "15         1       2  female  55.000000      0      0  16.0000        S\n",
       "16         0       3    male   2.000000      4      1  29.1250        Q\n",
       "17         1       2    male  19.055965      0      0  13.0000        S\n",
       "18         0       3  female  31.000000      1      0  18.0000        S\n",
       "19         1       3  female  27.940789      0      0   7.2250        C"
      ]
     },
     "execution_count": 250,
     "metadata": {},
     "output_type": "execute_result"
    }
   ],
   "source": [
    "df1.head(20)"
   ]
  },
  {
   "cell_type": "code",
   "execution_count": 251,
   "metadata": {
    "collapsed": false
   },
   "outputs": [
    {
     "name": "stdout",
     "output_type": "stream",
     "text": [
      "Value Counts:\n"
     ]
    },
    {
     "data": {
      "text/plain": [
       "Survived    889\n",
       "Pclass      889\n",
       "Sex         889\n",
       "Age         889\n",
       "SibSp       889\n",
       "Parch       889\n",
       "Fare        889\n",
       "Embarked    889\n",
       "dtype: int64"
      ]
     },
     "execution_count": 251,
     "metadata": {},
     "output_type": "execute_result"
    }
   ],
   "source": [
    "#Two people did not embark so I'll remove their records from the data\n",
    "df1 = df1.dropna()\n",
    "\n",
    "print(\"Value Counts:\")\n",
    "df1.count()"
   ]
  },
  {
   "cell_type": "code",
   "execution_count": 113,
   "metadata": {
    "collapsed": false
   },
   "outputs": [
    {
     "name": "stdout",
     "output_type": "stream",
     "text": [
      "Survival rate by class and sex\n"
     ]
    },
    {
     "data": {
      "image/png": "[encoded data removed]",
      "text/plain": [
       "<matplotlib.figure.Figure at 0x2a55e553358>"
      ]
     },
     "metadata": {},
     "output_type": "display_data"
    },
    {
     "name": "stdout",
     "output_type": "stream",
     "text": [
      "Survival rate by age bucket\n"
     ]
    },
    {
     "data": {
      "image/png": "[encoded data removed]",
      "text/plain": [
       "<matplotlib.figure.Figure at 0x2a55f647d68>"
      ]
     },
     "metadata": {},
     "output_type": "display_data"
    }
   ],
   "source": [
    "#Quick exploratory analysis on survivial rate\n",
    "import matplotlib.pyplot as plt\n",
    "\n",
    "print(\"Survival rate by class and sex\")\n",
    "(df1.groupby(['Pclass','Sex'])['Survived'].mean()).plot.bar()\n",
    "plt.show()\n",
    "\n",
    "print(\"Survival rate by age bucket\")\n",
    "(df1.groupby(pd.cut(df1[\"Age\"], np.arange(0, df1.Age.max(), 5)))['Survived'].mean()).plot.bar()\n",
    "plt.show()"
   ]
  },
  {
   "cell_type": "code",
   "execution_count": 252,
   "metadata": {
    "collapsed": true
   },
   "outputs": [],
   "source": [
    "#Creating dummy variables for sex and embarked\n",
    "df1 = pd.get_dummies(data=df1, columns=['Sex','Embarked','Pclass'])\n",
    "\n",
    "#dropping male flag\n",
    "df1.drop(\"Sex_male\",axis=1,inplace=True)"
   ]
  },
  {
   "cell_type": "code",
   "execution_count": 253,
   "metadata": {
    "collapsed": false
   },
   "outputs": [
    {
     "data": {
      "text/html": [
       "<div>\n",
       "<table border=\"1\" class=\"dataframe\">\n",
       "  <thead>\n",
       "    <tr style=\"text-align: right;\">\n",
       "      <th></th>\n",
       "      <th>Survived</th>\n",
       "      <th>Age</th>\n",
       "      <th>SibSp</th>\n",
       "      <th>Parch</th>\n",
       "      <th>Fare</th>\n",
       "      <th>Sex_female</th>\n",
       "      <th>Embarked_C</th>\n",
       "      <th>Embarked_Q</th>\n",
       "      <th>Embarked_S</th>\n",
       "      <th>Pclass_1</th>\n",
       "      <th>Pclass_2</th>\n",
       "      <th>Pclass_3</th>\n",
       "    </tr>\n",
       "  </thead>\n",
       "  <tbody>\n",
       "    <tr>\n",
       "      <th>0</th>\n",
       "      <td>0</td>\n",
       "      <td>22.000000</td>\n",
       "      <td>1</td>\n",
       "      <td>0</td>\n",
       "      <td>7.2500</td>\n",
       "      <td>0</td>\n",
       "      <td>0</td>\n",
       "      <td>0</td>\n",
       "      <td>1</td>\n",
       "      <td>0</td>\n",
       "      <td>0</td>\n",
       "      <td>1</td>\n",
       "    </tr>\n",
       "    <tr>\n",
       "      <th>1</th>\n",
       "      <td>1</td>\n",
       "      <td>38.000000</td>\n",
       "      <td>1</td>\n",
       "      <td>0</td>\n",
       "      <td>71.2833</td>\n",
       "      <td>1</td>\n",
       "      <td>1</td>\n",
       "      <td>0</td>\n",
       "      <td>0</td>\n",
       "      <td>1</td>\n",
       "      <td>0</td>\n",
       "      <td>0</td>\n",
       "    </tr>\n",
       "    <tr>\n",
       "      <th>2</th>\n",
       "      <td>1</td>\n",
       "      <td>26.000000</td>\n",
       "      <td>0</td>\n",
       "      <td>0</td>\n",
       "      <td>7.9250</td>\n",
       "      <td>1</td>\n",
       "      <td>0</td>\n",
       "      <td>0</td>\n",
       "      <td>1</td>\n",
       "      <td>0</td>\n",
       "      <td>0</td>\n",
       "      <td>1</td>\n",
       "    </tr>\n",
       "    <tr>\n",
       "      <th>3</th>\n",
       "      <td>1</td>\n",
       "      <td>35.000000</td>\n",
       "      <td>1</td>\n",
       "      <td>0</td>\n",
       "      <td>53.1000</td>\n",
       "      <td>1</td>\n",
       "      <td>0</td>\n",
       "      <td>0</td>\n",
       "      <td>1</td>\n",
       "      <td>1</td>\n",
       "      <td>0</td>\n",
       "      <td>0</td>\n",
       "    </tr>\n",
       "    <tr>\n",
       "      <th>4</th>\n",
       "      <td>0</td>\n",
       "      <td>35.000000</td>\n",
       "      <td>0</td>\n",
       "      <td>0</td>\n",
       "      <td>8.0500</td>\n",
       "      <td>0</td>\n",
       "      <td>0</td>\n",
       "      <td>0</td>\n",
       "      <td>1</td>\n",
       "      <td>0</td>\n",
       "      <td>0</td>\n",
       "      <td>1</td>\n",
       "    </tr>\n",
       "    <tr>\n",
       "      <th>5</th>\n",
       "      <td>0</td>\n",
       "      <td>19.055965</td>\n",
       "      <td>0</td>\n",
       "      <td>0</td>\n",
       "      <td>8.4583</td>\n",
       "      <td>0</td>\n",
       "      <td>0</td>\n",
       "      <td>1</td>\n",
       "      <td>0</td>\n",
       "      <td>0</td>\n",
       "      <td>0</td>\n",
       "      <td>1</td>\n",
       "    </tr>\n",
       "    <tr>\n",
       "      <th>6</th>\n",
       "      <td>0</td>\n",
       "      <td>54.000000</td>\n",
       "      <td>0</td>\n",
       "      <td>0</td>\n",
       "      <td>51.8625</td>\n",
       "      <td>0</td>\n",
       "      <td>0</td>\n",
       "      <td>0</td>\n",
       "      <td>1</td>\n",
       "      <td>1</td>\n",
       "      <td>0</td>\n",
       "      <td>0</td>\n",
       "    </tr>\n",
       "    <tr>\n",
       "      <th>7</th>\n",
       "      <td>0</td>\n",
       "      <td>2.000000</td>\n",
       "      <td>3</td>\n",
       "      <td>1</td>\n",
       "      <td>21.0750</td>\n",
       "      <td>0</td>\n",
       "      <td>0</td>\n",
       "      <td>0</td>\n",
       "      <td>1</td>\n",
       "      <td>0</td>\n",
       "      <td>0</td>\n",
       "      <td>1</td>\n",
       "    </tr>\n",
       "    <tr>\n",
       "      <th>8</th>\n",
       "      <td>1</td>\n",
       "      <td>27.000000</td>\n",
       "      <td>0</td>\n",
       "      <td>2</td>\n",
       "      <td>11.1333</td>\n",
       "      <td>1</td>\n",
       "      <td>0</td>\n",
       "      <td>0</td>\n",
       "      <td>1</td>\n",
       "      <td>0</td>\n",
       "      <td>0</td>\n",
       "      <td>1</td>\n",
       "    </tr>\n",
       "    <tr>\n",
       "      <th>9</th>\n",
       "      <td>1</td>\n",
       "      <td>14.000000</td>\n",
       "      <td>1</td>\n",
       "      <td>0</td>\n",
       "      <td>30.0708</td>\n",
       "      <td>1</td>\n",
       "      <td>1</td>\n",
       "      <td>0</td>\n",
       "      <td>0</td>\n",
       "      <td>0</td>\n",
       "      <td>1</td>\n",
       "      <td>0</td>\n",
       "    </tr>\n",
       "    <tr>\n",
       "      <th>10</th>\n",
       "      <td>1</td>\n",
       "      <td>4.000000</td>\n",
       "      <td>1</td>\n",
       "      <td>1</td>\n",
       "      <td>16.7000</td>\n",
       "      <td>1</td>\n",
       "      <td>0</td>\n",
       "      <td>0</td>\n",
       "      <td>1</td>\n",
       "      <td>0</td>\n",
       "      <td>0</td>\n",
       "      <td>1</td>\n",
       "    </tr>\n",
       "    <tr>\n",
       "      <th>11</th>\n",
       "      <td>1</td>\n",
       "      <td>58.000000</td>\n",
       "      <td>0</td>\n",
       "      <td>0</td>\n",
       "      <td>26.5500</td>\n",
       "      <td>1</td>\n",
       "      <td>0</td>\n",
       "      <td>0</td>\n",
       "      <td>1</td>\n",
       "      <td>1</td>\n",
       "      <td>0</td>\n",
       "      <td>0</td>\n",
       "    </tr>\n",
       "    <tr>\n",
       "      <th>12</th>\n",
       "      <td>0</td>\n",
       "      <td>20.000000</td>\n",
       "      <td>0</td>\n",
       "      <td>0</td>\n",
       "      <td>8.0500</td>\n",
       "      <td>0</td>\n",
       "      <td>0</td>\n",
       "      <td>0</td>\n",
       "      <td>1</td>\n",
       "      <td>0</td>\n",
       "      <td>0</td>\n",
       "      <td>1</td>\n",
       "    </tr>\n",
       "    <tr>\n",
       "      <th>13</th>\n",
       "      <td>0</td>\n",
       "      <td>39.000000</td>\n",
       "      <td>1</td>\n",
       "      <td>5</td>\n",
       "      <td>31.2750</td>\n",
       "      <td>0</td>\n",
       "      <td>0</td>\n",
       "      <td>0</td>\n",
       "      <td>1</td>\n",
       "      <td>0</td>\n",
       "      <td>0</td>\n",
       "      <td>1</td>\n",
       "    </tr>\n",
       "    <tr>\n",
       "      <th>14</th>\n",
       "      <td>0</td>\n",
       "      <td>14.000000</td>\n",
       "      <td>0</td>\n",
       "      <td>0</td>\n",
       "      <td>7.8542</td>\n",
       "      <td>1</td>\n",
       "      <td>0</td>\n",
       "      <td>0</td>\n",
       "      <td>1</td>\n",
       "      <td>0</td>\n",
       "      <td>0</td>\n",
       "      <td>1</td>\n",
       "    </tr>\n",
       "    <tr>\n",
       "      <th>15</th>\n",
       "      <td>1</td>\n",
       "      <td>55.000000</td>\n",
       "      <td>0</td>\n",
       "      <td>0</td>\n",
       "      <td>16.0000</td>\n",
       "      <td>1</td>\n",
       "      <td>0</td>\n",
       "      <td>0</td>\n",
       "      <td>1</td>\n",
       "      <td>0</td>\n",
       "      <td>1</td>\n",
       "      <td>0</td>\n",
       "    </tr>\n",
       "    <tr>\n",
       "      <th>16</th>\n",
       "      <td>0</td>\n",
       "      <td>2.000000</td>\n",
       "      <td>4</td>\n",
       "      <td>1</td>\n",
       "      <td>29.1250</td>\n",
       "      <td>0</td>\n",
       "      <td>0</td>\n",
       "      <td>1</td>\n",
       "      <td>0</td>\n",
       "      <td>0</td>\n",
       "      <td>0</td>\n",
       "      <td>1</td>\n",
       "    </tr>\n",
       "    <tr>\n",
       "      <th>17</th>\n",
       "      <td>1</td>\n",
       "      <td>19.055965</td>\n",
       "      <td>0</td>\n",
       "      <td>0</td>\n",
       "      <td>13.0000</td>\n",
       "      <td>0</td>\n",
       "      <td>0</td>\n",
       "      <td>0</td>\n",
       "      <td>1</td>\n",
       "      <td>0</td>\n",
       "      <td>1</td>\n",
       "      <td>0</td>\n",
       "    </tr>\n",
       "    <tr>\n",
       "      <th>18</th>\n",
       "      <td>0</td>\n",
       "      <td>31.000000</td>\n",
       "      <td>1</td>\n",
       "      <td>0</td>\n",
       "      <td>18.0000</td>\n",
       "      <td>1</td>\n",
       "      <td>0</td>\n",
       "      <td>0</td>\n",
       "      <td>1</td>\n",
       "      <td>0</td>\n",
       "      <td>0</td>\n",
       "      <td>1</td>\n",
       "    </tr>\n",
       "    <tr>\n",
       "      <th>19</th>\n",
       "      <td>1</td>\n",
       "      <td>27.940789</td>\n",
       "      <td>0</td>\n",
       "      <td>0</td>\n",
       "      <td>7.2250</td>\n",
       "      <td>1</td>\n",
       "      <td>1</td>\n",
       "      <td>0</td>\n",
       "      <td>0</td>\n",
       "      <td>0</td>\n",
       "      <td>0</td>\n",
       "      <td>1</td>\n",
       "    </tr>\n",
       "  </tbody>\n",
       "</table>\n",
       "</div>"
      ],
      "text/plain": [
       "    Survived        Age  SibSp  Parch     Fare  Sex_female  Embarked_C  \\\n",
       "0          0  22.000000      1      0   7.2500           0           0   \n",
       "1          1  38.000000      1      0  71.2833           1           1   \n",
       "2          1  26.000000      0      0   7.9250           1           0   \n",
       "3          1  35.000000      1      0  53.1000           1           0   \n",
       "4          0  35.000000      0      0   8.0500           0           0   \n",
       "5          0  19.055965      0      0   8.4583           0           0   \n",
       "6          0  54.000000      0      0  51.8625           0           0   \n",
       "7          0   2.000000      3      1  21.0750           0           0   \n",
       "8          1  27.000000      0      2  11.1333           1           0   \n",
       "9          1  14.000000      1      0  30.0708           1           1   \n",
       "10         1   4.000000      1      1  16.7000           1           0   \n",
       "11         1  58.000000      0      0  26.5500           1           0   \n",
       "12         0  20.000000      0      0   8.0500           0           0   \n",
       "13         0  39.000000      1      5  31.2750           0           0   \n",
       "14         0  14.000000      0      0   7.8542           1           0   \n",
       "15         1  55.000000      0      0  16.0000           1           0   \n",
       "16         0   2.000000      4      1  29.1250           0           0   \n",
       "17         1  19.055965      0      0  13.0000           0           0   \n",
       "18         0  31.000000      1      0  18.0000           1           0   \n",
       "19         1  27.940789      0      0   7.2250           1           1   \n",
       "\n",
       "    Embarked_Q  Embarked_S  Pclass_1  Pclass_2  Pclass_3  \n",
       "0            0           1         0         0         1  \n",
       "1            0           0         1         0         0  \n",
       "2            0           1         0         0         1  \n",
       "3            0           1         1         0         0  \n",
       "4            0           1         0         0         1  \n",
       "5            1           0         0         0         1  \n",
       "6            0           1         1         0         0  \n",
       "7            0           1         0         0         1  \n",
       "8            0           1         0         0         1  \n",
       "9            0           0         0         1         0  \n",
       "10           0           1         0         0         1  \n",
       "11           0           1         1         0         0  \n",
       "12           0           1         0         0         1  \n",
       "13           0           1         0         0         1  \n",
       "14           0           1         0         0         1  \n",
       "15           0           1         0         1         0  \n",
       "16           1           0         0         0         1  \n",
       "17           0           1         0         1         0  \n",
       "18           0           1         0         0         1  \n",
       "19           0           0         0         0         1  "
      ]
     },
     "execution_count": 253,
     "metadata": {},
     "output_type": "execute_result"
    }
   ],
   "source": [
    "df1.head(20)  #Train set looks good"
   ]
  },
  {
   "cell_type": "code",
   "execution_count": 163,
   "metadata": {
    "collapsed": false
   },
   "outputs": [
    {
     "data": {
      "text/plain": [
       "Survived      False\n",
       "Age           False\n",
       "SibSp         False\n",
       "Parch         False\n",
       "Fare          False\n",
       "Sex_female    False\n",
       "Embarked_C    False\n",
       "Embarked_Q    False\n",
       "Embarked_S    False\n",
       "Pclass_1      False\n",
       "Pclass_2      False\n",
       "Pclass_3      False\n",
       "dtype: bool"
      ]
     },
     "execution_count": 163,
     "metadata": {},
     "output_type": "execute_result"
    }
   ],
   "source": [
    "#Check for NAs\n",
    "np.isnan(df1).any()"
   ]
  },
  {
   "cell_type": "code",
   "execution_count": 254,
   "metadata": {
    "collapsed": false
   },
   "outputs": [],
   "source": [
    "#Importing and preparing test dataset\n",
    "test_df = pd.read_csv('C:\\\\Users\\\\ggiorcelli\\\\Downloads\\\\train.csv')\n",
    "test_df.drop(['Ticket','Cabin','PassengerId','Name'],axis=1, inplace=True)\n",
    "\n",
    "#Note: I'm replacing missing age with mean age for corresponding class and sex from train dataset to ensure normalization\n",
    "test_df.Age = test_df.Age.fillna(-1)\n",
    "test_df1 = test_df.replace(-1, df.groupby(['Sex','Pclass'], as_index=False)['Age'].mean())\n",
    "\n",
    "#Create dummies and drop male flag\n",
    "test_df1 = pd.get_dummies(data=test_df1, columns=['Sex','Embarked','Pclass'])\n",
    "test_df1.drop('Sex_male',axis=1,inplace=True)"
   ]
  },
  {
   "cell_type": "code",
   "execution_count": 255,
   "metadata": {
    "collapsed": true
   },
   "outputs": [],
   "source": [
    "#Renaming test and train for easier coding\n",
    "train_x, train_y = df1.iloc[:,1:], df1.iloc[:,0]\n",
    "test_x, test_y = test_df1.iloc[:,1:], test_df1.iloc[:,0]\n",
    "\n",
    "#Library import\n",
    "from sklearn.linear_model import LogisticRegression\n",
    "from sklearn import metrics\n",
    "from sklearn.metrics import confusion_matrix\n",
    "from sklearn.feature_selection import chi2\n",
    "from sklearn.metrics import recall_score"
   ]
  },
  {
   "cell_type": "code",
   "execution_count": 169,
   "metadata": {
    "collapsed": false
   },
   "outputs": [
    {
     "name": "stdout",
     "output_type": "stream",
     "text": [
      "accuracy on train:  0.804274465692\n",
      "accuracy on test:  0.804713804714\n",
      "recall:  0.701754385965\n",
      "\n",
      "Confusion matrix\n",
      "[[477  72]\n",
      " [102 240]]\n",
      "\n",
      "      variable               coeff   p_val\n",
      "4   Sex_female     [2.59635168667]  0.0000\n",
      "8     Pclass_1     [0.94105921114]  0.0000\n",
      "5   Embarked_C    [0.173526489211]  0.0000\n",
      "3         Fare  [0.00267104603955]  0.0000\n",
      "0          Age  [-0.0342128269295]  0.0000\n",
      "2        Parch  [-0.0793257414616]  0.0012\n",
      "10    Pclass_3     [-1.0636214137]  0.0000\n"
     ]
    }
   ],
   "source": [
    "#Create model\n",
    "model = LogisticRegression()\n",
    "model = model.fit(train_x, train_y)\n",
    "\n",
    "yhat = model.predict(test_x)\n",
    "\n",
    "#Calculating chi2 to get pvalues\n",
    "scores, pvalues = chi2(train_x, train_y) \n",
    "pvalues=[\"{0:.4f}\".format(x)for x in pvalues] \n",
    "\n",
    "p_val = pd.DataFrame(list(zip(train_x.columns, np.transpose(model.coef_),  np.transpose(pvalues))) ,columns=['variable','coeff','p_val']).sort_values(by='p_val',ascending=True)\n",
    "p_val['p_val'] = p_val['p_val'].astype(float)\n",
    "\n",
    "#Check the accuracy on the training and test set\n",
    "print(\"accuracy on train: \", model.score(train_x, train_y))\n",
    "print(\"accuracy on test: \",  model.score(test_x, test_y))\n",
    "print(\"recall: \",recall_score(test_y, yhat))\n",
    "print(\"\")\n",
    "print(\"Confusion matrix\")\n",
    "print(metrics.confusion_matrix(test_y, yhat))\n",
    "print(\"\")\n",
    "print(p_val.loc[p_val['p_val'] < 0.01].sort_values(by='coeff',ascending=False))"
   ]
  },
  {
   "cell_type": "code",
   "execution_count": 196,
   "metadata": {
    "collapsed": false
   },
   "outputs": [
    {
     "name": "stdout",
     "output_type": "stream",
     "text": [
      "accuracy on train:  0.805399325084\n",
      "accuracy on test:  0.805836139169\n",
      "recall:  0.704678362573\n",
      "\n",
      "Confusion matrix\n",
      "[[477  72]\n",
      " [101 241]]\n",
      "\n"
     ]
    }
   ],
   "source": [
    "#Now let's see if we can improve the accuracy by normalizing age and fare\n",
    "from sklearn.preprocessing import StandardScaler\n",
    "\n",
    "scaler = StandardScaler().fit(train_x[['Age','Fare']])\n",
    "train_x[['Age','Fare']] = scaler.transform(train_x[['Age','Fare']])\n",
    "test_x[['Age','Fare']] = scaler.transform(test_x[['Age','Fare']])\n",
    "\n",
    "#Create model with standardized variables\n",
    "model = LogisticRegression()\n",
    "model = model.fit(train_x, train_y)\n",
    "\n",
    "yhat = model.predict(test_x)\n",
    "\n",
    "#Check the accuracy on the training and test set\n",
    "print(\"accuracy on train: \", model.score(train_x, train_y))\n",
    "print(\"accuracy on test: \",  model.score(test_x, test_y))\n",
    "print(\"recall: \",recall_score(test_y, yhat))\n",
    "print(\"\")\n",
    "print(\"Confusion matrix\")\n",
    "print(metrics.confusion_matrix(test_y, yhat))\n",
    "print(\"\")"
   ]
  },
  {
   "cell_type": "code",
   "execution_count": 256,
   "metadata": {
    "collapsed": false
   },
   "outputs": [
    {
     "name": "stdout",
     "output_type": "stream",
     "text": [
      "accuracy on train:  0.81214848144\n",
      "accuracy on test:  0.812570145903\n",
      "recall:  0.710526315789\n",
      "\n",
      "Confusion matrix\n",
      "[[481  68]\n",
      " [ 99 243]]\n",
      "\n"
     ]
    }
   ],
   "source": [
    "#Small but noticeable improvement in performance using the standard scaler\n",
    "#Now I'll try one more technique: log transformation\n",
    "\n",
    "train_x.Age, train_x.Fare = np.log(train_x.Age.loc[train_x.Age != 0]), np.log(train_x.Fare.loc[train_x.Fare != 0])\n",
    "test_x.Age, test_x.Fare = np.log(test_x.Age.loc[test_x.Age != 0]), np.log(test_x.Fare.loc[test_x.Fare != 0])\n",
    "\n",
    "#One record throws an NA after log transformation so I'll replace it it with the column mean\n",
    "train_x.Fare = train_x.Fare.fillna(train_x.Fare.mean())\n",
    "test_x.Fare = test_x.Fare.fillna(test_x.Fare.mean())\n",
    "\n",
    "model = LogisticRegression()\n",
    "model = model.fit(train_x, train_y)\n",
    "\n",
    "yhat = model.predict(test_x)\n",
    "\n",
    "#Check the accuracy on the training and test set\n",
    "print(\"accuracy on train: \", model.score(train_x, train_y))\n",
    "print(\"accuracy on test: \",  model.score(test_x, test_y))\n",
    "print(\"recall: \",recall_score(test_y, yhat))\n",
    "print(\"\")\n",
    "print(\"Confusion matrix\")\n",
    "print(metrics.confusion_matrix(test_y, yhat))\n",
    "print(\"\")"
   ]
  },
  {
   "cell_type": "code",
   "execution_count": null,
   "metadata": {
    "collapsed": true
   },
   "outputs": [],
   "source": [
    "## Conclusion: the best normalization technique for modeling is the one with log normalization"
   ]
  },
  {
   "cell_type": "code",
   "execution_count": 236,
   "metadata": {
    "collapsed": false
   },
   "outputs": [
    {
     "name": "stdout",
     "output_type": "stream",
     "text": [
      "\n",
      "-----------------------------\n",
      "ROC Score:  0.863835362541\n",
      "-----------------------------\n",
      "\n"
     ]
    },
    {
     "data": {
      "image/png": "[encoded data removed]",
      "text/plain": [
       "<matplotlib.figure.Figure at 0x2a5602d2390>"
      ]
     },
     "metadata": {},
     "output_type": "display_data"
    }
   ],
   "source": [
    "## Calculate and plot ROC\n",
    "phat = model.predict_proba(test_x)[:,1]\n",
    "print(\"\\n-----------------------------\")\n",
    "print(\"ROC Score: \",metrics.roc_auc_score(test_y, phat))\n",
    "print(\"-----------------------------\\n\")\n",
    "\n",
    "fpr, tpr, threshold = metrics.roc_curve(test_y, phat)\n",
    "roc_auc = metrics.auc(fpr, tpr)\n",
    "\n",
    "#Plot ROC\n",
    "plt.title('Receiver Operating Characteristic')\n",
    "plt.plot(fpr, tpr, 'b', label = 'AUC = %0.2f' % roc_auc)\n",
    "plt.legend(loc = 'lower right')\n",
    "plt.plot([0, 1], [0, 1],'r--')\n",
    "plt.xlim([0, 1])\n",
    "plt.ylim([0, 1])\n",
    "plt.ylabel('True Positive Rate')\n",
    "plt.xlabel('False Positive Rate')\n",
    "plt.show()"
   ]
  },
  {
   "cell_type": "code",
   "execution_count": 237,
   "metadata": {
    "collapsed": false,
    "scrolled": true
   },
   "outputs": [
    {
     "name": "stdout",
     "output_type": "stream",
     "text": [
      "Classification report\n",
      "\n",
      "             precision    recall  f1-score   support\n",
      "\n",
      "          0       0.83      0.88      0.85       549\n",
      "          1       0.78      0.71      0.74       342\n",
      "\n",
      "avg / total       0.81      0.81      0.81       891\n",
      "\n"
     ]
    }
   ],
   "source": [
    "from sklearn.metrics import classification_report\n",
    "print(\"Classification report\\n\")\n",
    "print(classification_report(test_y, yhat))"
   ]
  },
  {
   "cell_type": "code",
   "execution_count": null,
   "metadata": {
    "collapsed": true
   },
   "outputs": [],
   "source": [
    "## Now that we have proven that log-transforming the data is the optimal data processing method /\n",
    "## we'll feed the data to a stroger alogorithm. General domain knowledge tells us that tree-based models / \n",
    "## are usually the best models for binary classification. Hence, once we import the data into Weka and Orange for /\n",
    "## the modeling part of this project, we will probably use a tree based model.\n",
    "## Before doing so, let's see how a basic extreme gradient boosting alorithm performs on the data and let's /\n",
    "## see if there's is more room for improvement before taking the data into Weka or Orange"
   ]
  },
  {
   "cell_type": "code",
   "execution_count": 9,
   "metadata": {
    "collapsed": false
   },
   "outputs": [
    {
     "name": "stderr",
     "output_type": "stream",
     "text": [
      "C:\\Users\\ggiorcelli\\AppData\\Local\\Continuum\\Anaconda3\\lib\\site-packages\\sklearn\\cross_validation.py:44: DeprecationWarning: This module was deprecated in version 0.18 in favor of the model_selection module into which all the refactored classes and functions are moved. Also note that the interface of the new CV iterators are different from that of this module. This module will be removed in 0.20.\n",
      "  \"This module will be removed in 0.20.\", DeprecationWarning)\n"
     ]
    }
   ],
   "source": [
    "import sys\n",
    "import sklearn\n",
    "import os\n",
    "import itertools\n",
    "import time\n",
    "import pickle\n",
    "import pandas as pd\n",
    "import numpy as np\n",
    "import matplotlib.pyplot as plt\n",
    "from sklearn import model_selection\n",
    "from sklearn.preprocessing import LabelEncoder\n",
    "from sklearn.model_selection import GridSearchCV\n",
    "from sklearn import cross_validation, metrics\n",
    "from sklearn.metrics import mean_absolute_error, mean_squared_error\n",
    "from sklearn.metrics import confusion_matrix\n",
    "\n",
    "mingw_path = 'C:\\\\Program Files\\\\mingw-w64\\\\x86_64-5.3.0-posix-seh-rt_v4-rev0\\\\mingw64\\\\bin'\n",
    "os.environ['PATH'] = mingw_path + ';' + os.environ['PATH']\n",
    "\n",
    "import xgboost as xgb\n",
    "from xgboost.sklearn import XGBClassifier"
   ]
  },
  {
   "cell_type": "code",
   "execution_count": 221,
   "metadata": {
    "collapsed": false
   },
   "outputs": [
    {
     "name": "stdout",
     "output_type": "stream",
     "text": [
      "accuracy on train:  0.985376827897\n",
      "accuracy on test:  0.985409652076\n",
      "recall:  0.973684210526\n",
      "\n",
      "Confusion matrix\n",
      "[[545   4]\n",
      " [  9 333]]\n",
      "\n"
     ]
    }
   ],
   "source": [
    "import xgboost as xgb\n",
    "from xgboost.sklearn import XGBClassifier\n",
    "\n",
    "model = xgb.XGBClassifier(scale_pos_weight=1, n_estimators=10000, learning_rate=0.1)\n",
    "model.fit(train_x, train_y)\n",
    "\n",
    "yhat = model.predict(test_x)\n",
    "\n",
    "#Check the accuracy on the training and test set\n",
    "print(\"accuracy on train: \", model.score(train_x, train_y))\n",
    "print(\"accuracy on test: \",  model.score(test_x, test_y))\n",
    "print(\"recall: \",recall_score(test_y, yhat))\n",
    "print(\"\")\n",
    "print(\"Confusion matrix\")\n",
    "print(metrics.confusion_matrix(test_y, yhat))\n",
    "print(\"\")"
   ]
  },
  {
   "cell_type": "code",
   "execution_count": 222,
   "metadata": {
    "collapsed": false
   },
   "outputs": [
    {
     "name": "stdout",
     "output_type": "stream",
     "text": [
      "Classification report\n",
      "\n",
      "             precision    recall  f1-score   support\n",
      "\n",
      "          0       0.98      0.99      0.99       549\n",
      "          1       0.99      0.97      0.98       342\n",
      "\n",
      "avg / total       0.99      0.99      0.99       891\n",
      "\n"
     ]
    }
   ],
   "source": [
    "print(\"Classification report\\n\")\n",
    "print(classification_report(test_y, yhat))"
   ]
  },
  {
   "cell_type": "code",
   "execution_count": null,
   "metadata": {
    "collapsed": true
   },
   "outputs": [],
   "source": [
    "## As expected, a tree-base model (XGboost in this case) performs much better than logistic regression. \n",
    "## This proves our hypotesis, we will use a tree based model for the modeling part\n",
    "\n",
    "## Before exporting the data we have one last thing left to try.\n",
    "## Let's see if clustering the data before fitting the model improves our model's performance"
   ]
  },
  {
   "cell_type": "code",
   "execution_count": 223,
   "metadata": {
    "collapsed": false
   },
   "outputs": [],
   "source": [
    "## Our dataset is a mix of continuous and boolean variables so we will need to use an algorithm that / \n",
    "## tollerate such datset. DBscan is a density-based clustering algorithm that works well with data of mixed types\n",
    "\n",
    "from sklearn.cluster import DBSCAN\n",
    "clust = DBSCAN(eps=0.8, min_samples=20).fit(train_x)\n",
    "\n",
    "train_x['Cluster'] = clust.labels_\n",
    "test_x['Cluster'] = clust.fit_predict(test_x)\n",
    "\n",
    "train_x = pd.get_dummies(data=train_x, columns=['Cluster'])\n",
    "test_x = pd.get_dummies(data=test_x, columns=['Cluster'])"
   ]
  },
  {
   "cell_type": "code",
   "execution_count": 224,
   "metadata": {
    "collapsed": false
   },
   "outputs": [
    {
     "name": "stdout",
     "output_type": "stream",
     "text": [
      "accuracy on train:  0.985376827897\n",
      "accuracy on test:  0.985409652076\n",
      "recall:  0.988304093567\n",
      "\n",
      "Confusion matrix\n",
      "[[540   9]\n",
      " [  4 338]]\n",
      "\n"
     ]
    }
   ],
   "source": [
    "model = xgb.XGBClassifier(scale_pos_weight=1.0, n_estimators=9000, learning_rate=0.1)\n",
    "model.fit(train_x, train_y)\n",
    "\n",
    "yhat = model.predict(test_x)\n",
    "\n",
    "#Check the accuracy on the training and test set\n",
    "print(\"accuracy on train: \", model.score(train_x, train_y))\n",
    "print(\"accuracy on test: \",  model.score(test_x, test_y))\n",
    "print(\"recall: \",recall_score(test_y, yhat))\n",
    "print(\"\")\n",
    "print(\"Confusion matrix\")\n",
    "print(metrics.confusion_matrix(test_y, yhat))\n",
    "print(\"\")"
   ]
  },
  {
   "cell_type": "code",
   "execution_count": 225,
   "metadata": {
    "collapsed": false
   },
   "outputs": [
    {
     "name": "stdout",
     "output_type": "stream",
     "text": [
      "Classification report\n",
      "\n",
      "             precision    recall  f1-score   support\n",
      "\n",
      "          0       0.99      0.98      0.99       549\n",
      "          1       0.97      0.99      0.98       342\n",
      "\n",
      "avg / total       0.99      0.99      0.99       891\n",
      "\n"
     ]
    }
   ],
   "source": [
    "print(\"Classification report\\n\")\n",
    "print(classification_report(test_y, yhat))"
   ]
  },
  {
   "cell_type": "code",
   "execution_count": null,
   "metadata": {
    "collapsed": true
   },
   "outputs": [],
   "source": [
    "## We can see how recall increased but precision decreased proportionally and the f1 score remained the same. This tells us  / \n",
    "##that clustering the data does not improve the model's performance. We will not include clustering in the modeling portion"
   ]
  },
  {
   "cell_type": "code",
   "execution_count": 261,
   "metadata": {
    "collapsed": false
   },
   "outputs": [],
   "source": [
    "## Exporting log-transformed data into a csv file for modeling in Weka\n",
    "\n",
    "train_x['Survived'] = train_y.copy()\n",
    "test_x['Survived'] = test_y.copy()\n",
    "\n",
    "processed_df = train_x.append(test_x)\n",
    "processed_df.to_csv('processed_df.csv')"
   ]
  }
 ],
 "metadata": {
  "kernelspec": {
   "display_name": "Python 3",
   "language": "python",
   "name": "python3"
  },
  "language_info": {
   "codemirror_mode": {
    "name": "ipython",
    "version": 3
   },
   "file_extension": ".py",
   "mimetype": "text/x-python",
   "name": "python",
   "nbconvert_exporter": "python",
   "pygments_lexer": "ipython3",
   "version": "3.6.0"
  }
 },
 "nbformat": 4,
 "nbformat_minor": 2
}
